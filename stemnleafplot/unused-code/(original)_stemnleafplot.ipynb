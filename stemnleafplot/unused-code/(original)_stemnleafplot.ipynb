{
 "cells": [
  {
   "cell_type": "code",
   "execution_count": 1,
   "metadata": {},
   "outputs": [
    {
     "name": "stderr",
     "output_type": "stream",
     "text": [
      "[nltk_data] Downloading package wordnet to\n",
      "[nltk_data]     C:\\Users\\manalais\\AppData\\Roaming\\nltk_data...\n",
      "[nltk_data]   Package wordnet is already up-to-date!\n",
      "[nltk_data] Downloading package words to\n",
      "[nltk_data]     C:\\Users\\manalais\\AppData\\Roaming\\nltk_data...\n",
      "[nltk_data]   Package words is already up-to-date!\n"
     ]
    },
    {
     "data": {
      "text/plain": [
       "True"
      ]
     },
     "execution_count": 1,
     "metadata": {},
     "output_type": "execute_result"
    }
   ],
   "source": [
    "import nltk\n",
    "from nltk.tokenize import sent_tokenize, word_tokenize\n",
    "from nltk.corpus import stopwords\n",
    "from nltk.stem import WordNetLemmatizer\n",
    "from nltk.tag import pos_tag\n",
    "from collections import Counter\n",
    "nltk.download('wordnet')\n",
    "from nltk.corpus import wordnet\n",
    "from nltk.stem import PorterStemmer\n",
    "import difflib\n",
    "import pandas as pd\n",
    "nltk.download('words')"
   ]
  },
  {
   "cell_type": "code",
   "execution_count": 2,
   "metadata": {},
   "outputs": [],
   "source": [
    "# Remove Punctuation\n",
    "def removePunctuation(sentence):\n",
    "    '''Input must be string. Tokenizes and removes punctuation.'''\n",
    "    \n",
    "    tokenized_sentence = nltk.word_tokenize(sentence)\n",
    "    punctuations=\"\\\"!#$%&'()*+,-./:;<=>?@[\\]^_`{|}~–\"\n",
    "    for word in tokenized_sentence:\n",
    "        if word in punctuations:\n",
    "            tokenized_sentence.remove(word)\n",
    "    return tokenized_sentence"
   ]
  },
  {
   "cell_type": "code",
   "execution_count": 3,
   "metadata": {},
   "outputs": [],
   "source": [
    "# Remove StopWords\n",
    "def removeStopWords(sentence):\n",
    "    '''takes tokenized words as an input and removes all the stop words'''\n",
    "    \n",
    "    for word in sentence:\n",
    "        if word in stopwords.words('english'):\n",
    "            sentence.remove(word)\n",
    "    return sentence"
   ]
  },
  {
   "cell_type": "code",
   "execution_count": 5,
   "metadata": {},
   "outputs": [],
   "source": [
    "def lemmatizeWords(sentence):\n",
    "    '''takes as an input tokenized sentence without punctuations. Returns lemmatized words'''\n",
    "    wordnet_lemmatizer = WordNetLemmatizer()\n",
    "    lemmatized_words = []\n",
    "    sentence = nltk.pos_tag(sentence)   #find POS in the sentence\n",
    "    print(sentence)\n",
    "    for word, tag in sentence:\n",
    "        if tag.startswith('NN' or 'NNS' or 'NNP' or 'NNPS'):\n",
    "            lemmatized_words.append(wordnet_lemmatizer.lemmatize(word, pos='n'))\n",
    "        elif tag.startswith('VB' or 'VBP' or 'VBD' or 'VBG' or 'VBP' or 'VBZ'):\n",
    "            lemmatized_words.append(wordnet_lemmatizer.lemmatize(word, pos='v'))\n",
    "        elif tag.startswith('JJ' or 'JJR' or 'JJS' ):\n",
    "            lemmatized_words.append(wordnet_lemmatizer.lemmatize(word, pos='a'))\n",
    "        elif tag.startswith('RB' or 'RBR' or 'RBS' or 'RP'):\n",
    "            lemmatized_words.append(wordnet_lemmatizer.lemmatize(word, pos='r'))\n",
    "        else:\n",
    "            lemmatized_words.append(wordnet_lemmatizer.lemmatize(word))\n",
    "    return lemmatized_words"
   ]
  },
  {
   "cell_type": "code",
   "execution_count": null,
   "metadata": {
    "scrolled": true
   },
   "outputs": [],
   "source": [
    "\n",
    "dic = dict()\n",
    "root_list = []\n",
    "leaf_list = []\n",
    "\n",
    "# This code finds the root words and returns it as a list\n",
    "my_file = open(r\"C:\\Users\\manalais\\Box\\Web Developer\\Decoding Racism\\decode-diversity-statements\\texts\\AAAS_(American_Association_for_the_Advancement_of_Science).txt\", encoding=\"utf-8\")\n",
    "for line in my_file:\n",
    "    line = line.strip()\n",
    "    line = line.lower()\n",
    "    rem_ove = removePunctuation(line)\n",
    "    #noStop = removeStopWords(rem_ove)\n",
    "    lemmaWord = lemmatizeWords(rem_ove)\n",
    "    for words in lemmaWord: \n",
    "        root_list.append(words)\n",
    "\n",
    "root_list = list(set(root_list))  # removes the duplicate words\n",
    "print(root_list)\n",
    "\n",
    "\n",
    "#create a dictionory here assign all the roots to keys and empty list as values\n",
    "for root in root_list:\n",
    "    dic[root] = []\n",
    "\n",
    "    \n",
    "# This code finds the leaf words and returns it as a list  \n",
    "token_file = open(r\"C:\\Users\\manalais\\Box\\Web Developer\\Decoding Racism\\decode-diversity-statements\\texts\\AAAS_(American_Association_for_the_Advancement_of_Science).txt\", encoding=\"utf-8\")\n",
    "for line in token_file:\n",
    "    line = line.strip()\n",
    "    line = line.lower()\n",
    "    rem_ove = removePunctuation(line)\n",
    "    noStop = removeStopWords(rem_ove)\n",
    "    for words in noStop:\n",
    "        leaf_list.append(words)\n",
    "        \n",
    "leaf_list = list(set(leaf_list))  # removes the duplicate words\n",
    "\n",
    " \n",
    "# This code finds the leaf words and returns it as a list   \n",
    "for root in root_list:\n",
    "    #print(root)\n",
    "    for leaf in leaf_list:\n",
    "        #print(leaf)\n",
    "        similiarity = difflib.SequenceMatcher(None, root, leaf).ratio()\n",
    "        if similiarity > 0.80:\n",
    "            dic[root].append(leaf)\n",
    "\n",
    "\n",
    "#Task: visualization: print out the roots and leaves\n",
    "key_list = []\n",
    "value_list = []\n",
    "\n",
    "for k in dic.keys():\n",
    "    key_list.append(k)\n",
    "for v in dic.values():\n",
    "    value_list.append(v)\n",
    "print(\"\\033[1m\" + \"Root and Leaf Plot\".center(60) + \"\\n\")\n",
    "for key,value in zip(key_list,value_list):\n",
    "    print (\"\\033[1m\" + key + \"\\033[0m\" + ' | ' + \" \".join(value))"
   ]
  }
 ],
 "metadata": {
  "kernelspec": {
   "display_name": "Python 3",
   "language": "python",
   "name": "python3"
  },
  "language_info": {
   "codemirror_mode": {
    "name": "ipython",
    "version": 3
   },
   "file_extension": ".py",
   "mimetype": "text/x-python",
   "name": "python",
   "nbconvert_exporter": "python",
   "pygments_lexer": "ipython3",
   "version": "3.8.5"
  }
 },
 "nbformat": 4,
 "nbformat_minor": 4
}
