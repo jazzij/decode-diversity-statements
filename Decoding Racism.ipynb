{
 "cells": [
  {
   "cell_type": "markdown",
   "metadata": {},
   "source": [
    "# Documenting Decoding Anti-racism statements\n",
    "\n",
    "Our simple word count analysis yield 7,750 unique words.\n",
    "We removed X stop words (common grammatical units with no real meaning)\n",
    "We found Y keywords using co-occurance analysis\n",
    "Using protest slogans and hashtags we derived Z significant words, of which ZZ were present in the total corpus."
   ]
  },
  {
   "cell_type": "code",
   "execution_count": 1,
   "metadata": {},
   "outputs": [
    {
     "name": "stdout",
     "output_type": "stream",
     "text": [
      "The AISES family shares in the pain and grief of the black community resulting from the murder of George Floyd and the long history of oppression and violence against their communities. As indigenous people, at AISES, we are guided by the traditional knowledge of our ancestors who have lived and died upon these lands since time immemorial. Among this knowledge is the deep understanding that “we are all related.” It is this respect for relationships and community that guides AISES’ programs and partnerships. For example, for several years now, AISES has been a part of the 50k Coalition alongside the National Society of Black Engineers, the Society of Women Engineers, and the Society of Hispanic Professional Engineers. Through partnerships like this, we have come to understand that our combined communities are stronger together. We have come to recognize that we are all working toward the same goals – diversity, equity, and inclusion for all communities and have learned that we can support one another through the adversity and challenges our communities face day in and day out. As such, today and every day, we stand with our black brothers and sisters in solidarity against the continued violence and systemic oppression of their communities. #blacklivesmatter\n"
     ]
    }
   ],
   "source": [
    "'''\n",
    "IMPORT TEXT FILE\n",
    "'''\n",
    "import nltk\n",
    "import os\n",
    "\n",
    "curdir = os.getcwd()\n",
    "textdir = os.path.join(curdir, \"texts\")\n",
    "filename = \"test_text.txt\"\n",
    "\n",
    "text = []\n",
    "with open(os.path.join(textdir, filename), 'r') as file:\n",
    "        text = file.read()\n",
    "print(text)"
   ]
  },
  {
   "cell_type": "markdown",
   "metadata": {},
   "source": [
    "But notice!\n",
    "We have text that are not words. Acronyms, hashtags, and entity names are included in this text. \n",
    "Acronyms-- all caps\n",
    "Hashtags-- preceded with '\\#' character\n",
    "Entities-- tbd (George Floyd, National Society of Black Engineers)\n",
    "\n",
    "Let's take a note of these..."
   ]
  },
  {
   "cell_type": "markdown",
   "metadata": {},
   "source": [
    "# Step 1. Pulling out Special Text\n",
    "\n",
    "First, we need to find hashtags, url's, @mentions (twitter handles). Finding these depends on punctuation requirements, so we have to get these first before moving on to word-based text parsing. "
   ]
  },
  {
   "cell_type": "markdown",
   "metadata": {},
   "source": [
    "## Finding Hashtags and @mentions\n",
    "\n",
    "These are easy, just need a regex to identify the '#' or '@' followed by an string of characters. The first space indicates the end of the token"
   ]
  },
  {
   "cell_type": "code",
   "execution_count": 25,
   "metadata": {},
   "outputs": [
    {
     "name": "stdout",
     "output_type": "stream",
     "text": [
      "['#blacklivesmatter']\n",
      "[]\n"
     ]
    }
   ],
   "source": [
    "import re\n",
    "hashtags = re.findall(r'(#\\w+)', text)\n",
    "mentions = re.findall(r'(@\\w+)', text)\n",
    "print(hashtags)\n",
    "print(mentions)"
   ]
  },
  {
   "cell_type": "markdown",
   "metadata": {},
   "source": [
    "## Finding URL's\n",
    "\n",
    "Leverage the structure of hyperlinks to find URL's in the text. "
   ]
  },
  {
   "cell_type": "raw",
   "metadata": {},
   "source": [
    "urls = re.findall(r'(https?://[^\\s]+)', text)\n",
    "print(urls)"
   ]
  },
  {
   "cell_type": "markdown",
   "metadata": {},
   "source": [
    "# Step 2. Tokenization of Text\n",
    "\n",
    "Now that punctuation-based terms are found, we can get a file of text and convert to individual strings (tokens). Tokenization by default ignores punctuation, only returning a-z characters and word level grammar marks (like apostrophes).\n",
    "\n",
    "Tokenizing is a necessary step to start working on more word-based analysis."
   ]
  },
  {
   "cell_type": "code",
   "execution_count": 2,
   "metadata": {},
   "outputs": [
    {
     "name": "stdout",
     "output_type": "stream",
     "text": [
      "['The', 'AISES', 'family', 'shares', 'in', 'the', 'pain', 'and', 'grief', 'of', 'the', 'black', 'community', 'resulting', 'from', 'the', 'murder', 'of', 'George', 'Floyd', 'and', 'the', 'long', 'history', 'of', 'oppression', 'and', 'violence', 'against', 'their', 'communities', 'As', 'indigenous', 'people', 'at', 'AISES', 'we', 'are', 'guided', 'by', 'the', 'traditional', 'knowledge', 'of', 'our', 'ancestors', 'who', 'have', 'lived', 'and', 'died', 'upon', 'these', 'lands', 'since', 'time', 'immemorial', 'Among', 'this', 'knowledge', 'is', 'the', 'deep', 'understanding', 'that', 'we', 'are', 'all', 'related', 'It', 'is', 'this', 'respect', 'for', 'relationships', 'and', 'community', 'that', 'guides', 'AISES', 'programs', 'and', 'partnerships', 'For', 'example', 'for', 'several', 'years', 'now', 'AISES', 'has', 'been', 'a', 'part', 'of', 'the', '50k', 'Coalition', 'alongside', 'the', 'National', 'Society', 'of', 'Black', 'Engineers', 'the', 'Society', 'of', 'Women', 'Engineers', 'and', 'the', 'Society', 'of', 'Hispanic', 'Professional', 'Engineers', 'Through', 'partnerships', 'like', 'this', 'we', 'have', 'come', 'to', 'understand', 'that', 'our', 'combined', 'communities', 'are', 'stronger', 'together', 'We', 'have', 'come', 'to', 'recognize', 'that', 'we', 'are', 'all', 'working', 'toward', 'the', 'same', 'goals', 'diversity', 'equity', 'and', 'inclusion', 'for', 'all', 'communities', 'and', 'have', 'learned', 'that', 'we', 'can', 'support', 'one', 'another', 'through', 'the', 'adversity', 'and', 'challenges', 'our', 'communities', 'face', 'day', 'in', 'and', 'day', 'out', 'As', 'such', 'today', 'and', 'every', 'day', 'we', 'stand', 'with', 'our', 'black', 'brothers', 'and', 'sisters', 'in', 'solidarity', 'against', 'the', 'continued', 'violence', 'and', 'systemic', 'oppression', 'of', 'their', 'communities', 'blacklivesmatter']\n"
     ]
    }
   ],
   "source": [
    "'''\n",
    "TOKENIZE TEXT\n",
    "'''\n",
    "from nltk.tokenize import word_tokenize\n",
    "\n",
    "tokenizer = nltk.RegexpTokenizer(r\"\\w+\") #regex to get all words, including numbers, but not punctuaction\n",
    "tokens = tokenizer.tokenize(text)\n",
    "\n",
    "print(tokens)"
   ]
  },
  {
   "cell_type": "markdown",
   "metadata": {},
   "source": [
    "## Recognizing Entities\n",
    "\n",
    "Named Entity Recognition uses existing algorithms to identity names of people, organization, places, dates and times. \n",
    "Let's see how it does with our text."
   ]
  },
  {
   "cell_type": "markdown",
   "metadata": {},
   "source": [
    "**First, Identify Parts of Speech**\n",
    "\n",
    "Note: The pos_tags use different tagsets. The default is UPenn tags. A list can be found by running the code here:\n",
    "``` \n",
    "nltk.download('tagsets')\n",
    "nltk.help.upenn_tagset()\n",
    "```\n",
    "\n",
    "_(NN are nouns. NNP are proper nouns. NNPS is plural proper nouns.)_"
   ]
  },
  {
   "cell_type": "code",
   "execution_count": 4,
   "metadata": {},
   "outputs": [
    {
     "name": "stdout",
     "output_type": "stream",
     "text": [
      "[('The', 'DT'), ('AISES', 'NNP'), ('family', 'NN'), ('shares', 'NNS'), ('in', 'IN'), ('the', 'DT'), ('pain', 'NN'), ('and', 'CC'), ('grief', 'NN'), ('of', 'IN'), ('the', 'DT'), ('black', 'JJ'), ('community', 'NN'), ('resulting', 'VBG'), ('from', 'IN'), ('the', 'DT'), ('murder', 'NN'), ('of', 'IN'), ('George', 'NNP'), ('Floyd', 'NNP'), ('and', 'CC'), ('the', 'DT'), ('long', 'JJ'), ('history', 'NN'), ('of', 'IN'), ('oppression', 'NN'), ('and', 'CC'), ('violence', 'NN'), ('against', 'IN'), ('their', 'PRP$'), ('communities', 'NNS'), ('As', 'IN'), ('indigenous', 'JJ'), ('people', 'NNS'), ('at', 'IN'), ('AISES', 'NNP'), ('we', 'PRP'), ('are', 'VBP'), ('guided', 'VBN'), ('by', 'IN'), ('the', 'DT'), ('traditional', 'JJ'), ('knowledge', 'NN'), ('of', 'IN'), ('our', 'PRP$'), ('ancestors', 'NNS'), ('who', 'WP'), ('have', 'VBP'), ('lived', 'VBN'), ('and', 'CC'), ('died', 'VBN'), ('upon', 'IN'), ('these', 'DT'), ('lands', 'NNS'), ('since', 'IN'), ('time', 'NN'), ('immemorial', 'JJ'), ('Among', 'IN'), ('this', 'DT'), ('knowledge', 'NN'), ('is', 'VBZ'), ('the', 'DT'), ('deep', 'JJ'), ('understanding', 'NN'), ('that', 'IN'), ('we', 'PRP'), ('are', 'VBP'), ('all', 'DT'), ('related', 'JJ'), ('It', 'PRP'), ('is', 'VBZ'), ('this', 'DT'), ('respect', 'NN'), ('for', 'IN'), ('relationships', 'NNS'), ('and', 'CC'), ('community', 'NN'), ('that', 'WDT'), ('guides', 'VBZ'), ('AISES', 'NNP'), ('programs', 'NNS'), ('and', 'CC'), ('partnerships', 'NNS'), ('For', 'IN'), ('example', 'NN'), ('for', 'IN'), ('several', 'JJ'), ('years', 'NNS'), ('now', 'RB'), ('AISES', 'NNP'), ('has', 'VBZ'), ('been', 'VBN'), ('a', 'DT'), ('part', 'NN'), ('of', 'IN'), ('the', 'DT'), ('50k', 'CD'), ('Coalition', 'NNP'), ('alongside', 'IN'), ('the', 'DT'), ('National', 'NNP'), ('Society', 'NNP'), ('of', 'IN'), ('Black', 'NNP'), ('Engineers', 'NNPS'), ('the', 'DT'), ('Society', 'NNP'), ('of', 'IN'), ('Women', 'NNP'), ('Engineers', 'NNPS'), ('and', 'CC'), ('the', 'DT'), ('Society', 'NNP'), ('of', 'IN'), ('Hispanic', 'NNP'), ('Professional', 'NNP'), ('Engineers', 'NNP'), ('Through', 'IN'), ('partnerships', 'NNS'), ('like', 'IN'), ('this', 'DT'), ('we', 'PRP'), ('have', 'VBP'), ('come', 'VBN'), ('to', 'TO'), ('understand', 'VB'), ('that', 'IN'), ('our', 'PRP$'), ('combined', 'JJ'), ('communities', 'NNS'), ('are', 'VBP'), ('stronger', 'JJR'), ('together', 'RB'), ('We', 'PRP'), ('have', 'VBP'), ('come', 'VBN'), ('to', 'TO'), ('recognize', 'VB'), ('that', 'IN'), ('we', 'PRP'), ('are', 'VBP'), ('all', 'DT'), ('working', 'VBG'), ('toward', 'IN'), ('the', 'DT'), ('same', 'JJ'), ('goals', 'NNS'), ('diversity', 'NN'), ('equity', 'NN'), ('and', 'CC'), ('inclusion', 'NN'), ('for', 'IN'), ('all', 'DT'), ('communities', 'NNS'), ('and', 'CC'), ('have', 'VBP'), ('learned', 'VBN'), ('that', 'IN'), ('we', 'PRP'), ('can', 'MD'), ('support', 'VB'), ('one', 'CD'), ('another', 'DT'), ('through', 'IN'), ('the', 'DT'), ('adversity', 'NN'), ('and', 'CC'), ('challenges', 'VBZ'), ('our', 'PRP$'), ('communities', 'NNS'), ('face', 'VBP'), ('day', 'NN'), ('in', 'IN'), ('and', 'CC'), ('day', 'NN'), ('out', 'RP'), ('As', 'IN'), ('such', 'JJ'), ('today', 'NN'), ('and', 'CC'), ('every', 'DT'), ('day', 'NN'), ('we', 'PRP'), ('stand', 'VBP'), ('with', 'IN'), ('our', 'PRP$'), ('black', 'JJ'), ('brothers', 'NNS'), ('and', 'CC'), ('sisters', 'NNS'), ('in', 'IN'), ('solidarity', 'NN'), ('against', 'IN'), ('the', 'DT'), ('continued', 'JJ'), ('violence', 'NN'), ('and', 'CC'), ('systemic', 'JJ'), ('oppression', 'NN'), ('of', 'IN'), ('their', 'PRP$'), ('communities', 'NNS'), ('blacklivesmatter', 'NN')]\n"
     ]
    }
   ],
   "source": [
    "from nltk.tag import pos_tag\n",
    "\n",
    "'''tag part of speech first. result is list of (word, tag)'''\n",
    "\n",
    "\n",
    "tagged_tokens = nltk.pos_tag(tokens)\n",
    "print(tagged_tokens)"
   ]
  },
  {
   "cell_type": "markdown",
   "metadata": {},
   "source": [
    "Let's try creating noun phrases with regular expressions. "
   ]
  },
  {
   "cell_type": "code",
   "execution_count": 17,
   "metadata": {
    "scrolled": false
   },
   "outputs": [
    {
     "name": "stdout",
     "output_type": "stream",
     "text": [
      "(S\n",
      "  (NP The/DT AISES/NNP family/NN shares/NNS)\n",
      "  in/IN\n",
      "  (NP the/DT pain/NN)\n",
      "  and/CC\n",
      "  (NP grief/NN)\n",
      "  of/IN\n",
      "  (NP the/DT black/JJ community/NN)\n",
      "  resulting/VBG\n",
      "  from/IN\n",
      "  (NP the/DT murder/NN)\n",
      "  of/IN\n",
      "  (NP George/NNP Floyd/NNP)\n",
      "  and/CC\n",
      "  (NP the/DT long/JJ history/NN)\n",
      "  of/IN\n",
      "  (NP oppression/NN)\n",
      "  and/CC\n",
      "  (NP violence/NN)\n",
      "  against/IN\n",
      "  their/PRP$\n",
      "  (NP communities/NNS)\n",
      "  As/IN\n",
      "  (NP indigenous/JJ people/NNS)\n",
      "  at/IN\n",
      "  (NP AISES/NNP)\n",
      "  we/PRP\n",
      "  are/VBP\n",
      "  guided/VBN\n",
      "  by/IN\n",
      "  (NP the/DT traditional/JJ knowledge/NN)\n",
      "  of/IN\n",
      "  our/PRP$\n",
      "  (NP ancestors/NNS)\n",
      "  who/WP\n",
      "  have/VBP\n",
      "  lived/VBN\n",
      "  and/CC\n",
      "  died/VBN\n",
      "  upon/IN\n",
      "  (NP these/DT lands/NNS)\n",
      "  since/IN\n",
      "  (NP time/NN)\n",
      "  immemorial/JJ\n",
      "  Among/IN\n",
      "  (NP this/DT knowledge/NN)\n",
      "  is/VBZ\n",
      "  (NP the/DT deep/JJ understanding/NN)\n",
      "  that/IN\n",
      "  we/PRP\n",
      "  are/VBP\n",
      "  all/DT\n",
      "  related/JJ\n",
      "  It/PRP\n",
      "  is/VBZ\n",
      "  (NP this/DT respect/NN)\n",
      "  for/IN\n",
      "  (NP relationships/NNS)\n",
      "  and/CC\n",
      "  (NP community/NN)\n",
      "  that/WDT\n",
      "  guides/VBZ\n",
      "  (NP AISES/NNP programs/NNS)\n",
      "  and/CC\n",
      "  (NP partnerships/NNS)\n",
      "  For/IN\n",
      "  (NP example/NN)\n",
      "  for/IN\n",
      "  (NP several/JJ years/NNS)\n",
      "  now/RB\n",
      "  (NP AISES/NNP)\n",
      "  has/VBZ\n",
      "  been/VBN\n",
      "  (NP a/DT part/NN)\n",
      "  of/IN\n",
      "  the/DT\n",
      "  50k/CD\n",
      "  (NP Coalition/NNP)\n",
      "  alongside/IN\n",
      "  (NP the/DT National/NNP Society/NNP)\n",
      "  of/IN\n",
      "  (NP Black/NNP Engineers/NNPS)\n",
      "  (NP the/DT Society/NNP)\n",
      "  of/IN\n",
      "  (NP Women/NNP Engineers/NNPS)\n",
      "  and/CC\n",
      "  (NP the/DT Society/NNP)\n",
      "  of/IN\n",
      "  (NP Hispanic/NNP Professional/NNP Engineers/NNP)\n",
      "  Through/IN\n",
      "  (NP partnerships/NNS)\n",
      "  like/IN\n",
      "  this/DT\n",
      "  we/PRP\n",
      "  have/VBP\n",
      "  come/VBN\n",
      "  to/TO\n",
      "  understand/VB\n",
      "  that/IN\n",
      "  our/PRP$\n",
      "  (NP combined/JJ communities/NNS)\n",
      "  are/VBP\n",
      "  stronger/JJR\n",
      "  together/RB\n",
      "  We/PRP\n",
      "  have/VBP\n",
      "  come/VBN\n",
      "  to/TO\n",
      "  recognize/VB\n",
      "  that/IN\n",
      "  we/PRP\n",
      "  are/VBP\n",
      "  all/DT\n",
      "  working/VBG\n",
      "  toward/IN\n",
      "  (NP the/DT same/JJ goals/NNS diversity/NN equity/NN)\n",
      "  and/CC\n",
      "  (NP inclusion/NN)\n",
      "  for/IN\n",
      "  (NP all/DT communities/NNS)\n",
      "  and/CC\n",
      "  have/VBP\n",
      "  learned/VBN\n",
      "  that/IN\n",
      "  we/PRP\n",
      "  can/MD\n",
      "  support/VB\n",
      "  one/CD\n",
      "  another/DT\n",
      "  through/IN\n",
      "  (NP the/DT adversity/NN)\n",
      "  and/CC\n",
      "  challenges/VBZ\n",
      "  our/PRP$\n",
      "  (NP communities/NNS)\n",
      "  face/VBP\n",
      "  (NP day/NN)\n",
      "  in/IN\n",
      "  and/CC\n",
      "  (NP day/NN)\n",
      "  out/RP\n",
      "  As/IN\n",
      "  (NP such/JJ today/NN)\n",
      "  and/CC\n",
      "  (NP every/DT day/NN)\n",
      "  we/PRP\n",
      "  stand/VBP\n",
      "  with/IN\n",
      "  our/PRP$\n",
      "  (NP black/JJ brothers/NNS)\n",
      "  and/CC\n",
      "  (NP sisters/NNS)\n",
      "  in/IN\n",
      "  (NP solidarity/NN)\n",
      "  against/IN\n",
      "  (NP the/DT continued/JJ violence/NN)\n",
      "  and/CC\n",
      "  (NP systemic/JJ oppression/NN)\n",
      "  of/IN\n",
      "  their/PRP$\n",
      "  (NP communities/NNS blacklivesmatter/NN))\n"
     ]
    }
   ],
   "source": [
    "#Noun phrase is determined by determiner (optional), adjectives (any number) and a noun\n",
    "pattern1 = 'NP: {<DT>?<JJ>*<NN.*>+}'\n",
    "parser1 = nltk.RegexpParser(pattern1)\n",
    "parsed = parser1.parse(tagged_tokens)\n",
    "print(parsed)"
   ]
  },
  {
   "cell_type": "code",
   "execution_count": 15,
   "metadata": {},
   "outputs": [
    {
     "name": "stdout",
     "output_type": "stream",
     "text": [
      "(S\n",
      "  The/DT\n",
      "  AISES/NNP\n",
      "  family/NN\n",
      "  shares/NNS\n",
      "  in/IN\n",
      "  the/DT\n",
      "  pain/NN\n",
      "  and/CC\n",
      "  grief/NN\n",
      "  of/IN\n",
      "  the/DT\n",
      "  black/JJ\n",
      "  community/NN\n",
      "  resulting/VBG\n",
      "  from/IN\n",
      "  the/DT\n",
      "  murder/NN\n",
      "  of/IN\n",
      "  (NP George/NNP Floyd/NNP)\n",
      "  and/CC\n",
      "  the/DT\n",
      "  long/JJ\n",
      "  history/NN\n",
      "  of/IN\n",
      "  oppression/NN\n",
      "  and/CC\n",
      "  violence/NN\n",
      "  against/IN\n",
      "  their/PRP$\n",
      "  communities/NNS\n",
      "  As/IN\n",
      "  indigenous/JJ\n",
      "  people/NNS\n",
      "  at/IN\n",
      "  AISES/NNP\n",
      "  we/PRP\n",
      "  are/VBP\n",
      "  guided/VBN\n",
      "  by/IN\n",
      "  the/DT\n",
      "  traditional/JJ\n",
      "  knowledge/NN\n",
      "  of/IN\n",
      "  our/PRP$\n",
      "  ancestors/NNS\n",
      "  who/WP\n",
      "  have/VBP\n",
      "  lived/VBN\n",
      "  and/CC\n",
      "  died/VBN\n",
      "  upon/IN\n",
      "  these/DT\n",
      "  lands/NNS\n",
      "  since/IN\n",
      "  time/NN\n",
      "  immemorial/JJ\n",
      "  Among/IN\n",
      "  this/DT\n",
      "  knowledge/NN\n",
      "  is/VBZ\n",
      "  the/DT\n",
      "  deep/JJ\n",
      "  understanding/NN\n",
      "  that/IN\n",
      "  we/PRP\n",
      "  are/VBP\n",
      "  all/DT\n",
      "  related/JJ\n",
      "  It/PRP\n",
      "  is/VBZ\n",
      "  this/DT\n",
      "  respect/NN\n",
      "  for/IN\n",
      "  relationships/NNS\n",
      "  and/CC\n",
      "  community/NN\n",
      "  that/WDT\n",
      "  guides/VBZ\n",
      "  AISES/NNP\n",
      "  programs/NNS\n",
      "  and/CC\n",
      "  partnerships/NNS\n",
      "  For/IN\n",
      "  example/NN\n",
      "  for/IN\n",
      "  several/JJ\n",
      "  years/NNS\n",
      "  now/RB\n",
      "  AISES/NNP\n",
      "  has/VBZ\n",
      "  been/VBN\n",
      "  a/DT\n",
      "  part/NN\n",
      "  of/IN\n",
      "  the/DT\n",
      "  50k/CD\n",
      "  Coalition/NNP\n",
      "  alongside/IN\n",
      "  the/DT\n",
      "  (NP National/NNP Society/NNP of/IN Black/NNP Engineers/NNPS)\n",
      "  the/DT\n",
      "  (NP Society/NNP of/IN Women/NNP Engineers/NNPS)\n",
      "  and/CC\n",
      "  the/DT\n",
      "  (NP Society/NNP of/IN Hispanic/NNP Professional/NNP Engineers/NNP)\n",
      "  Through/IN\n",
      "  partnerships/NNS\n",
      "  like/IN\n",
      "  this/DT\n",
      "  we/PRP\n",
      "  have/VBP\n",
      "  come/VBN\n",
      "  to/TO\n",
      "  understand/VB\n",
      "  that/IN\n",
      "  our/PRP$\n",
      "  combined/JJ\n",
      "  communities/NNS\n",
      "  are/VBP\n",
      "  stronger/JJR\n",
      "  together/RB\n",
      "  We/PRP\n",
      "  have/VBP\n",
      "  come/VBN\n",
      "  to/TO\n",
      "  recognize/VB\n",
      "  that/IN\n",
      "  we/PRP\n",
      "  are/VBP\n",
      "  all/DT\n",
      "  working/VBG\n",
      "  toward/IN\n",
      "  the/DT\n",
      "  same/JJ\n",
      "  goals/NNS\n",
      "  diversity/NN\n",
      "  equity/NN\n",
      "  and/CC\n",
      "  inclusion/NN\n",
      "  for/IN\n",
      "  all/DT\n",
      "  communities/NNS\n",
      "  and/CC\n",
      "  have/VBP\n",
      "  learned/VBN\n",
      "  that/IN\n",
      "  we/PRP\n",
      "  can/MD\n",
      "  support/VB\n",
      "  one/CD\n",
      "  another/DT\n",
      "  through/IN\n",
      "  the/DT\n",
      "  adversity/NN\n",
      "  and/CC\n",
      "  challenges/VBZ\n",
      "  our/PRP$\n",
      "  communities/NNS\n",
      "  face/VBP\n",
      "  day/NN\n",
      "  in/IN\n",
      "  and/CC\n",
      "  day/NN\n",
      "  out/RP\n",
      "  As/IN\n",
      "  such/JJ\n",
      "  today/NN\n",
      "  and/CC\n",
      "  every/DT\n",
      "  day/NN\n",
      "  we/PRP\n",
      "  stand/VBP\n",
      "  with/IN\n",
      "  our/PRP$\n",
      "  black/JJ\n",
      "  brothers/NNS\n",
      "  and/CC\n",
      "  sisters/NNS\n",
      "  in/IN\n",
      "  solidarity/NN\n",
      "  against/IN\n",
      "  the/DT\n",
      "  continued/JJ\n",
      "  violence/NN\n",
      "  and/CC\n",
      "  systemic/JJ\n",
      "  oppression/NN\n",
      "  of/IN\n",
      "  their/PRP$\n",
      "  communities/NNS\n",
      "  blacklivesmatter/NN)\n"
     ]
    }
   ],
   "source": [
    "#Noun phrase is determiner (opt), Proper Nouns, optional linking determiners (of,for) other Proper Nouns\n",
    "pattern2 = 'NP: {<NNP>+<IN>?<NNP.*>+}'\n",
    "parser2 = nltk.RegexpParser(pattern2)\n",
    "parsed = parser2.parse(tagged_tokens)\n",
    "print(parsed)"
   ]
  },
  {
   "cell_type": "markdown",
   "metadata": {},
   "source": [
    "RegEx2 seems more useful in pulling out names of people and organizations."
   ]
  },
  {
   "cell_type": "markdown",
   "metadata": {},
   "source": [
    "# Finding Significant N-grams\n",
    "\n",
    "tbd\n"
   ]
  },
  {
   "cell_type": "markdown",
   "metadata": {},
   "source": [
    "# Stemming and Lemmatization\n",
    "\n",
    "tbd"
   ]
  },
  {
   "cell_type": "code",
   "execution_count": 6,
   "metadata": {},
   "outputs": [
    {
     "data": {
      "text/plain": [
       "'The AISES family shares in the pain and grief of the black community resulting from the murder of George Floyd and the long history of oppression and violence against their communities. As indigenous people, at AISES, we are guided by the traditional knowledge of our ancestors who have lived and died upon these lands since time immemorial. Among this knowledge is the deep understanding that “we are all related.” It is this respect for relationships and community that guides AISES’ programs and partnerships. For example, for several years now, AISES has been a part of the 50k Coalition alongside the National Society of Black Engineers, the Society of Women Engineers, and the Society of Hispanic Professional Engineers. Through partnerships like this, we have come to understand that our combined communities are stronger together. We have come to recognize that we are all working toward the same goals – diversity, equity, and inclusion for all communities and have learned that we can support one another through the adversity and challenges our communities face day in and day out. As such, today and every day, we stand with our black brothers and sisters in solidarity against the continued violence and systemic oppression of their communities. #blacklivesmatter'"
      ]
     },
     "execution_count": 6,
     "metadata": {},
     "output_type": "execute_result"
    }
   ],
   "source": [
    "text"
   ]
  },
  {
   "cell_type": "markdown",
   "metadata": {},
   "source": [
    "# Calculating and Visualizing Term Frequency\n",
    "\n",
    "tbd"
   ]
  },
  {
   "cell_type": "code",
   "execution_count": 28,
   "metadata": {
    "scrolled": true
   },
   "outputs": [
    {
     "data": {
      "image/png": "[encoded data removed]",
      "text/plain": [
       "<Figure size 432x288 with 1 Axes>"
      ]
     },
     "metadata": {
      "needs_background": "light"
     },
     "output_type": "display_data"
    },
    {
     "data": {
      "text/plain": [
       "<matplotlib.axes._subplots.AxesSubplot at 0x121159ca0>"
      ]
     },
     "execution_count": 28,
     "metadata": {},
     "output_type": "execute_result"
    }
   ],
   "source": [
    "# Term Frequency\n",
    "tf = {'a': .1, 'b':.5, 'c': .34, 'd': .06}\n",
    "fd = nltk.FreqDist(tf)\n",
    "fd.plot()"
   ]
  },
  {
   "cell_type": "code",
   "execution_count": null,
   "metadata": {},
   "outputs": [],
   "source": []
  }
 ],
 "metadata": {
  "kernelspec": {
   "display_name": "Python 3",
   "language": "python",
   "name": "python3"
  },
  "language_info": {
   "codemirror_mode": {
    "name": "ipython",
    "version": 3
   },
   "file_extension": ".py",
   "mimetype": "text/x-python",
   "name": "python",
   "nbconvert_exporter": "python",
   "pygments_lexer": "ipython3",
   "version": "3.8.2"
  }
 },
 "nbformat": 4,
 "nbformat_minor": 4
}
